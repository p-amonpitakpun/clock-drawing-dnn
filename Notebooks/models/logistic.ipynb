{
 "cells": [
  {
   "cell_type": "markdown",
   "metadata": {},
   "source": [
    "### Logistic Regression"
   ]
  },
  {
   "cell_type": "markdown",
   "metadata": {},
   "source": [
    "## Preprocess"
   ]
  },
  {
   "cell_type": "code",
   "execution_count": 21,
   "metadata": {},
   "outputs": [],
   "source": [
    "import sys\n",
    "sys.path.append(\"../..\") # Adds higher directory to python modules path.\n",
    "from data.preprocess import preprocess\n",
    "\n",
    "data = preprocess('../../data/raw/CD_PD.mat')\n",
    "train_x, train_y, test_x, test_y, val_x, val_y = [0, 0, 0, 0, 0, 0]"
   ]
  },
  {
   "cell_type": "markdown",
   "metadata": {},
   "source": [
    "## Model"
   ]
  },
  {
   "cell_type": "code",
   "execution_count": 22,
   "metadata": {},
   "outputs": [],
   "source": [
    "from sklearn.linear_model import LogisticRegression\n",
    "\n",
    "# create a model\n",
    "model = LogisticRegression(solver='liblinear', verbose=1)\n",
    "\n",
    "# fit the model\n",
    "# clf = model.fit(train_x, train_y)"
   ]
  },
  {
   "cell_type": "markdown",
   "metadata": {},
   "source": [
    "## Validation"
   ]
  },
  {
   "cell_type": "code",
   "execution_count": 26,
   "metadata": {},
   "outputs": [],
   "source": [
    "from sklearn.model_selection import cross_validate\n",
    "\n",
    "\n",
    "# cross validate\n",
    "# cv_result = cross_validate(model, val_x, val_y,\n",
    "#                            verbose=1, return_train_score=True)"
   ]
  },
  {
   "cell_type": "markdown",
   "metadata": {},
   "source": [
    "## Metrics"
   ]
  },
  {
   "cell_type": "code",
   "execution_count": 25,
   "metadata": {},
   "outputs": [],
   "source": [
    "from sklearn.metrics import roc_curve, log_loss, f1_score\n",
    "import matplotlib.pyplot as plt\n",
    "\n",
    "\n",
    "# get prediction\n",
    "# pred_y = clf.predict(test_x)\n",
    "\n",
    "# produce accuracy score\n",
    "# score = clf.score(test_x, test_y)\n",
    "# print('score =\\t', score)\n",
    "\n",
    "# produce log ros\n",
    "# log_ls = log_loss(test_y, pred_y)\n",
    "# print('log loss =\\t', log_ls)\n",
    "\n",
    "# produce f1 score\n",
    "# f1 = f1_score(test_y, pred_y)\n",
    "# print('f1 score =\\t', f1)\n",
    "\n",
    "# produce roc curve\n",
    "# fpr, tpr, _ = roc_curve(test_y, pred_prop_y)\n",
    "\n",
    "# plot roc curve\n",
    "# plt.plot([0, 1], [0, 1], 'k--')\n",
    "# plt.plot(fpr, tpr)\n",
    "# plt.xlabel('False positive rate')\n",
    "# plt.ylabel('True positive rate')\n",
    "# plt.title(\"RoC Curve\")\n",
    "# plt.show()\n"
   ]
  }
 ],
 "metadata": {
  "kernelspec": {
   "display_name": "Python 3",
   "language": "python",
   "name": "python3"
  },
  "language_info": {
   "codemirror_mode": {
    "name": "ipython",
    "version": 3
   },
   "file_extension": ".py",
   "mimetype": "text/x-python",
   "name": "python",
   "nbconvert_exporter": "python",
   "pygments_lexer": "ipython3",
   "version": "3.7.3"
  }
 },
 "nbformat": 4,
 "nbformat_minor": 4
}
