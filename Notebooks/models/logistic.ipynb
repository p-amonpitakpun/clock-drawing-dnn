{
 "cells": [
  {
   "cell_type": "markdown",
   "metadata": {},
   "source": [
    "### Logistic Regression"
   ]
  },
  {
   "cell_type": "markdown",
   "metadata": {},
   "source": [
    "## Preprocess"
   ]
  },
  {
   "cell_type": "code",
   "execution_count": 6,
   "metadata": {},
   "outputs": [
    {
     "name": "stdout",
     "output_type": "stream",
     "text": [
      "features = age date duration ed gender side TMSE t x y p pt diagnosis clock_drawing \n",
      "train x\n",
      "\tshape = (156, 5)\n",
      "train y\n",
      "\tshape = (156,)\n",
      "test x\n",
      "\tshape = (40, 5)\n",
      "test y\n",
      "\tshape = (40,)\n"
     ]
    }
   ],
   "source": [
    "import numpy as np\n",
    "import sys\n",
    "sys.path.append(\"../..\") # Adds higher directory to python modules path.\n",
    "from data import preprocess\n",
    "\n",
    "dat = preprocess.preprocess('../../data/raw/CD_PD.mat')\n",
    "\n",
    "# print(data[0].names)\n",
    "d = np.dtype(dat[0]).fields\n",
    "print('features = ', end='')\n",
    "for attr in d.keys():\n",
    "    print(attr, end=' ')\n",
    "print()\n",
    "\n",
    "test_x, train_x, test_y, train_y = preprocess.get_all_non_temporal_data(dat, mode='diagnosis')\n",
    "print('train x\\n\\tshape =', train_x.shape)\n",
    "print('train y\\n\\tshape =', train_y.shape)\n",
    "print('test x\\n\\tshape =', test_x.shape)\n",
    "print('test y\\n\\tshape =', test_y.shape)"
   ]
  },
  {
   "cell_type": "markdown",
   "metadata": {},
   "source": [
    "## Model"
   ]
  },
  {
   "cell_type": "code",
   "execution_count": 38,
   "metadata": {},
   "outputs": [
    {
     "name": "stdout",
     "output_type": "stream",
     "text": [
      "model \t\t= LogisticRegression(C=1.0, class_weight=None, dual=False, fit_intercept=True,\n",
      "                   intercept_scaling=1, l1_ratio=None, max_iter=100,\n",
      "                   multi_class='warn', n_jobs=None, penalty='l2',\n",
      "                   random_state=None, solver='liblinear', tol=0.0001, verbose=1,\n",
      "                   warm_start=False)\n",
      "[LibLinear]\n",
      "classifier \t= LogisticRegression(C=1.0, class_weight=None, dual=False, fit_intercept=True,\n",
      "                   intercept_scaling=1, l1_ratio=None, max_iter=100,\n",
      "                   multi_class='warn', n_jobs=None, penalty='l2',\n",
      "                   random_state=None, solver='liblinear', tol=0.0001, verbose=1,\n",
      "                   warm_start=False)\n",
      "coefficient \t= [[-0.04882443  0.60707811  0.25243916  0.95497315  0.07137597]]\n",
      "iteration \t= [7]\n"
     ]
    }
   ],
   "source": [
    "from sklearn.linear_model import LogisticRegression\n",
    "\n",
    "# create a model\n",
    "model = LogisticRegression(solver='liblinear', verbose=1)\n",
    "print('model \\t\\t=', model)\n",
    "\n",
    "# fit the model\n",
    "clf = model.fit(train_x, train_y)\n",
    "print()\n",
    "print('classifier \\t=', clf)\n",
    "print('coefficient \\t=', model.coef_)\n",
    "print('iteration \\t=', model.n_iter_)"
   ]
  },
  {
   "cell_type": "markdown",
   "metadata": {},
   "source": [
    "## Validation"
   ]
  },
  {
   "cell_type": "code",
   "execution_count": 13,
   "metadata": {},
   "outputs": [],
   "source": [
    "from sklearn.model_selection import cross_validate\n",
    "\n",
    "\n",
    "# cross validate\n",
    "# cv_result = cross_validate(model, val_x, val_y,\n",
    "#                            verbose=1, return_train_score=True)"
   ]
  },
  {
   "cell_type": "markdown",
   "metadata": {},
   "source": [
    "## Metrics"
   ]
  },
  {
   "cell_type": "code",
   "execution_count": 48,
   "metadata": {},
   "outputs": [
    {
     "name": "stdout",
     "output_type": "stream",
     "text": [
      "prediction\n",
      "\tshape \t= (40,)\n",
      "prediction probability\n",
      "\tshape \t= (40, 2)\n",
      "accuracy score \t= 0.625\n",
      "log loss \t= nan\n",
      "f1 score \t= 0.7169811320754716\n"
     ]
    },
    {
     "name": "stderr",
     "output_type": "stream",
     "text": [
      "C:\\Users\\user\\Anaconda3\\lib\\site-packages\\sklearn\\metrics\\classification.py:2174: RuntimeWarning: divide by zero encountered in log\n",
      "  loss = -(transformed_labels * np.log(y_pred)).sum(axis=1)\n",
      "C:\\Users\\user\\Anaconda3\\lib\\site-packages\\sklearn\\metrics\\classification.py:2174: RuntimeWarning: invalid value encountered in multiply\n",
      "  loss = -(transformed_labels * np.log(y_pred)).sum(axis=1)\n"
     ]
    },
    {
     "data": {
      "image/png": "[encoded data removed]",
      "text/plain": [
       "<Figure size 432x288 with 1 Axes>"
      ]
     },
     "metadata": {
      "needs_background": "light"
     },
     "output_type": "display_data"
    }
   ],
   "source": [
    "from sklearn.metrics import roc_curve, log_loss, f1_score\n",
    "import matplotlib.pyplot as plt\n",
    "\n",
    "\n",
    "# get prediction\n",
    "pred_y = clf.predict(test_x)\n",
    "pred_prob_y = clf.predict_proba(test_x)\n",
    "\n",
    "print('prediction\\n\\tshape \\t=', pred_y.shape)\n",
    "print('prediction probability\\n\\tshape \\t=', pred_prob_y.shape)\n",
    "\n",
    "# produce accuracy score\n",
    "score = clf.score(test_x, test_y)\n",
    "print('accuracy score \\t=', score)\n",
    "\n",
    "# produce log ros\\\n",
    "log_ls = log_loss(test_y, pred_y)\n",
    "print('log loss \\t=', log_ls)\n",
    "\n",
    "# produce f1 score\n",
    "f1 = f1_score(test_y, pred_y)\n",
    "print('f1 score \\t=', f1)\n",
    "\n",
    "# produce roc curve\n",
    "fpr, tpr, _ = roc_curve(test_y, pred_prob_y[:, 0])\n",
    "\n",
    "# plot roc curve\n",
    "plt.plot([0, 1], [0, 1], 'k--')\n",
    "plt.plot(fpr, tpr)\n",
    "plt.xlabel('False positive rate')\n",
    "plt.ylabel('True positive rate')\n",
    "plt.title(\"RoC Curve\")\n",
    "plt.show()\n"
   ]
  }
 ],
 "metadata": {
  "kernelspec": {
   "display_name": "Python 3",
   "language": "python",
   "name": "python3"
  },
  "language_info": {
   "codemirror_mode": {
    "name": "ipython",
    "version": 3
   },
   "file_extension": ".py",
   "mimetype": "text/x-python",
   "name": "python",
   "nbconvert_exporter": "python",
   "pygments_lexer": "ipython3",
   "version": "3.7.3"
  }
 },
 "nbformat": 4,
 "nbformat_minor": 4
}
