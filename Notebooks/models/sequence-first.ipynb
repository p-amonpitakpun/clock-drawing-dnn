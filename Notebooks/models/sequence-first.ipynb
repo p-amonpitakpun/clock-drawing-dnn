{
 "nbformat": 4,
 "nbformat_minor": 2,
 "metadata": {
  "language_info": {
   "name": "python",
   "codemirror_mode": {
    "name": "ipython",
    "version": 3
   },
   "version": "3.6.4"
  },
  "orig_nbformat": 2,
  "file_extension": ".py",
  "mimetype": "text/x-python",
  "name": "python",
  "npconvert_exporter": "python",
  "pygments_lexer": "ipython3",
  "version": 3
 },
 "cells": [
  {
   "cell_type": "markdown",
   "execution_count": null,
   "metadata": {},
   "outputs": [],
   "source": [
    "# Drawing Sequence Model"
   ]
  },
  {
   "cell_type": "markdown",
   "execution_count": null,
   "metadata": {},
   "outputs": [],
   "source": [
    "## Import modules"
   ]
  },
  {
   "cell_type": "code",
   "execution_count": 83,
   "metadata": {},
   "outputs": [],
   "source": [
    "import numpy as np\n",
    "import pandas as pd\n",
    "from sklearn.model_selection import train_test_split\n",
    "from keras.models import Sequential\n",
    "from keras.layers import Dense, Dropout, Activation, Flatten, GRU, Embedding\n",
    "from keras.callbacks import ReduceLROnPlateau\n",
    "from sklearn.metrics import classification_report"
   ]
  },
  {
   "cell_type": "markdown",
   "execution_count": null,
   "metadata": {},
   "outputs": [],
   "source": [
    "## Preprocess"
   ]
  },
  {
   "cell_type": "code",
   "execution_count": 104,
   "metadata": {},
   "outputs": [],
   "source": [
    "data = pd.read_csv('data/draw-sequence.csv')\n",
    "\n",
    "# Fill NaN with -1\n",
    "data = data.fillna(-1)\n",
    "data = data.values[:,1:]\n",
    "\n",
    "# Reshape to 3D\n",
    "data = data.reshape((-1, 18, 1))\n",
    "\n",
    "from data import preprocess\n",
    "label = preprocess.preprocess('data/raw/CD_PD.mat')\n",
    "label = label['diagnosis'].astype('int32')\n",
    "\n",
    "# print(len(data), len(label))\n",
    "X_train, X_test, y_train, y_test = train_test_split(data, label, test_size=0.2)"
   ]
  },
  {
   "cell_type": "markdown",
   "execution_count": null,
   "metadata": {},
   "outputs": [],
   "source": [
    "## Define Model"
   ]
  },
  {
   "cell_type": "code",
   "execution_count": 115,
   "metadata": {},
   "outputs": [
    {
     "name": "stdout",
     "output_type": "stream",
     "text": "_________________________________________________________________\nLayer (type)                 Output Shape              Param #   \n=================================================================\ngru_34 (GRU)                 (None, 18, 100)           30600     \n_________________________________________________________________\ndropout_2 (Dropout)          (None, 18, 100)           0         \n_________________________________________________________________\ngru_35 (GRU)                 (None, 18, 100)           60300     \n_________________________________________________________________\ndropout_3 (Dropout)          (None, 18, 100)           0         \n_________________________________________________________________\ngru_36 (GRU)                 (None, 18, 100)           60300     \n_________________________________________________________________\nflatten_10 (Flatten)         (None, 1800)              0         \n_________________________________________________________________\ndense_94 (Dense)             (None, 1)                 1801      \n=================================================================\nTotal params: 153,001\nTrainable params: 153,001\nNon-trainable params: 0\n_________________________________________________________________\n"
    }
   ],
   "source": [
    "def get_model(n_features):\n",
    "    model = Sequential()\n",
    "    # model.add(Dense(128, activation='relu', input_shape=(n_features,)))\n",
    "    # model.add(Embedding(196, 10, input_shape=(n_features)))\n",
    "    model.add(GRU(100, return_sequences=True, input_shape=(n_features, 1)))\n",
    "    model.add(Dropout(0.2))\n",
    "    model.add(GRU(100, return_sequences=True))\n",
    "    model.add(Dropout(0.2))\n",
    "    model.add(GRU(100, return_sequences=True))\n",
    "    model.add(Flatten())\n",
    "    model.add(Dense(1, activation='sigmoid'))\n",
    "\n",
    "    reduce_lr = ReduceLROnPlateau(monitor='loss', factor=0.2, patience=5, min_lr=1e-5)\n",
    "    model.compile(loss='binary_crossentropy', optimizer='adam', callbacks=[reduce_lr])\n",
    "    model.build()\n",
    "    return model\n",
    "\n",
    "get_model(18).summary()"
   ]
  },
  {
   "cell_type": "code",
   "execution_count": 116,
   "metadata": {},
   "outputs": [
    {
     "name": "stdout",
     "output_type": "stream",
     "text": "Epoch 1/10\n156/156 [==============================] - 2s 12ms/step - loss: 0.6758\nEpoch 2/10\n156/156 [==============================] - 1s 3ms/step - loss: 0.6848\nEpoch 3/10\n156/156 [==============================] - 0s 3ms/step - loss: 0.6597\nEpoch 4/10\n156/156 [==============================] - 0s 3ms/step - loss: 0.6539\nEpoch 5/10\n156/156 [==============================] - 0s 3ms/step - loss: 0.6272\nEpoch 6/10\n156/156 [==============================] - 0s 3ms/step - loss: 0.6316\nEpoch 7/10\n156/156 [==============================] - 1s 3ms/step - loss: 0.6250\nEpoch 8/10\n156/156 [==============================] - 0s 3ms/step - loss: 0.6288\nEpoch 9/10\n156/156 [==============================] - 0s 3ms/step - loss: 0.6217\nEpoch 10/10\n156/156 [==============================] - 1s 4ms/step - loss: 0.6176\n"
    },
    {
     "data": {
      "text/plain": "0.711036992073059"
     },
     "execution_count": 116,
     "metadata": {},
     "output_type": "execute_result"
    }
   ],
   "source": [
    "model = get_model(len(X_train[0]))\n",
    "model.fit(X_train, y_train, batch_size=32, epochs=10, verbose=1)\n",
    "model.evaluate(X_test, y_test, verbose=0)"
   ]
  },
  {
   "cell_type": "markdown",
   "execution_count": null,
   "metadata": {},
   "outputs": [],
   "source": [
    "## Evaluation"
   ]
  },
  {
   "cell_type": "code",
   "execution_count": 117,
   "metadata": {},
   "outputs": [
    {
     "name": "stdout",
     "output_type": "stream",
     "text": "40/40 [==============================] - 1s 16ms/step\n              precision    recall  f1-score   support\n\n           0       0.53      1.00      0.69        19\n           1       1.00      0.19      0.32        21\n\n   micro avg       0.57      0.57      0.57        40\n   macro avg       0.76      0.60      0.51        40\nweighted avg       0.78      0.57      0.50        40\n\n"
    }
   ],
   "source": [
    "THRESHOLD = 0.5\n",
    "y_pred = model.predict(X_test, batch_size=64, verbose=1)\n",
    "y_pred_bool = np.where(y_pred < THRESHOLD, 0, 1).reshape(-1)\n",
    "print(classification_report(y_test, y_pred_bool))"
   ]
  },
  {
   "cell_type": "code",
   "execution_count": null,
   "metadata": {},
   "outputs": [],
   "source": []
  }
 ]
}